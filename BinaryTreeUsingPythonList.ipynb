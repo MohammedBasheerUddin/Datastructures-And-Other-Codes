{
  "nbformat": 4,
  "nbformat_minor": 0,
  "metadata": {
    "colab": {
      "name": "BinaryTreeUsingPythonList.ipynb",
      "provenance": [],
      "collapsed_sections": [],
      "authorship_tag": "ABX9TyMlblrPqgIRLbAVXSECJNxC",
      "include_colab_link": true
    },
    "kernelspec": {
      "name": "python3",
      "display_name": "Python 3"
    },
    "language_info": {
      "name": "python"
    }
  },
  "cells": [
    {
      "cell_type": "markdown",
      "metadata": {
        "id": "view-in-github",
        "colab_type": "text"
      },
      "source": [
        "<a href=\"https://colab.research.google.com/github/MohammedBasheerUddin/Datastructures-And-Other-Codes/blob/main/BinaryTreeUsingPythonList.ipynb\" target=\"_parent\"><img src=\"https://colab.research.google.com/assets/colab-badge.svg\" alt=\"Open In Colab\"/></a>"
      ]
    },
    {
      "cell_type": "code",
      "metadata": {
        "colab": {
          "base_uri": "https://localhost:8080/",
          "height": 695
        },
        "id": "UjdC5YDqOu1W",
        "outputId": "847f6a7b-22b3-44fc-ffb9-65d2cec23ba2"
      },
      "source": [
        "# [ x | rootindex | N2 | N3 | N4 ]\n",
        "# leftChild  = cell[2 * rootindex]\n",
        "# rightchild = cell[2 * rootindex + 1]\n",
        "\n",
        "class BinaryTree:\n",
        "  def __init__(self, size):\n",
        "    self.customList = size * [None]\n",
        "    self.lastUsedIndex = 0 #used as index calculation for CustomListArrauy\n",
        "    self.maxSize = size\n",
        "\n",
        "  def insert(self, value):\n",
        "    #lastUsedIndex is used to insert new value in tree \n",
        "    #if lastUsedIndex is = maxsize then tree is full\n",
        "\n",
        "    if self.lastUsedIndex + 1 == self.maxSize:\n",
        "      return 'Binary Tree Is Full!'\n",
        "\n",
        "    #else customlist[0+1] = given value\n",
        "    self.customList[self.lastUsedIndex + 1] = value \n",
        "\n",
        "    #increment lastUsedIndex \n",
        "    self.lastUsedIndex += 1\n",
        "    return 'Inserted'\n",
        "\n",
        "  def search(self, value):\n",
        "    # simple linear search\n",
        "    for i in range(len(self.customList)):\n",
        "      if self.customList[i] == value:\n",
        "        return 'Got It'\n",
        "    return 'Not There'\n",
        "  \n",
        "  def PreOrder(self, index):\n",
        "    if index > self.lastUsedIndex:\n",
        "      return\n",
        "    print(self.customList[index])\n",
        "    self.PreOrder(index*2)\n",
        "    self.PreOrder(index*2 + 1)\n",
        "\n",
        "  def Inorder(self, index):\n",
        "    if index > self.lastUsedIndex:\n",
        "      return\n",
        "    self.Inorder(index*2)  \n",
        "    print(self.customList[index])\n",
        "    self.Inorder(index*2 + 1)\n",
        "\n",
        "  def Post(self, index):\n",
        "    if index > self.lastUsedIndex:\n",
        "      return\n",
        "    self.Post(index*2)  \n",
        "    self.Post(index*2 + 1)  \n",
        "    print(self.customList[index])\n",
        "\n",
        "  def LevelOrder(self, index):\n",
        "    for i in range(index, self.lastUsedIndex+1):\n",
        "      print(self.customList[i])\n",
        "\n",
        "  # def DeleteNode(self, value):\n",
        "  #   if self.lastUsedIndex == 0:\n",
        "  #     return 'No node to delete'\n",
        "  #   for i in range(1, self.lastUsedIndex+1):\n",
        "  #     if self.customList[i] == value:\n",
        "  #       self.customList = self.customList[self.lastUsedIndex]\n",
        "  #       self.customList[self.lastUsedIndex] = None\n",
        "  #       self.lastUsedIndex -= 1\n",
        "  #       return \"The node is deleted\"\n",
        "\n",
        "  def deleteBT(self):\n",
        "    self.customList = None\n",
        "    return \"The Tree is deleted Successfully!\"\n",
        "    \n",
        "newBT= BinaryTree(8)\n",
        "\n",
        "newBT.insert(\"Drinks\")\n",
        "newBT.insert(\"hot\")\n",
        "newBT.insert(\"cold\")\n",
        "newBT.insert(\"Tea\")\n",
        "newBT.insert(\"coffe\")\n",
        "\n",
        "print('----------------IN_ORDER--------------------')\n",
        "newBT.Inorder(1)\n",
        "\n",
        "print('----------------POST_ORDER--------------------')\n",
        "newBT.Post(1)\n",
        "\n",
        "print('----------------PRE_ORDER--------------------')\n",
        "newBT.PreOrder(1)\n",
        "\n",
        "print('----------------LEVEL_ORDER--------------------')\n",
        "newBT.LevelOrder(1)\n",
        "\n",
        "print(newBT.DeleteNode(\"Tea\"))"
      ],
      "execution_count": null,
      "outputs": [
        {
          "output_type": "stream",
          "text": [
            "----------------IN_ORDER--------------------\n",
            "Tea\n",
            "hot\n",
            "coffe\n",
            "Drinks\n",
            "cold\n",
            "----------------POST_ORDER--------------------\n",
            "Tea\n",
            "coffe\n",
            "hot\n",
            "cold\n",
            "Drinks\n",
            "----------------PRE_ORDER--------------------\n",
            "Drinks\n",
            "hot\n",
            "Tea\n",
            "coffe\n",
            "cold\n",
            "----------------LEVEL_ORDER--------------------\n",
            "Drinks\n",
            "hot\n",
            "cold\n",
            "Tea\n",
            "coffe\n"
          ],
          "name": "stdout"
        },
        {
          "output_type": "error",
          "ename": "TypeError",
          "evalue": "ignored",
          "traceback": [
            "\u001b[0;31m---------------------------------------------------------------------------\u001b[0m",
            "\u001b[0;31mTypeError\u001b[0m                                 Traceback (most recent call last)",
            "\u001b[0;32m<ipython-input-11-e5d85dcacb33>\u001b[0m in \u001b[0;36m<module>\u001b[0;34m()\u001b[0m\n\u001b[1;32m     85\u001b[0m \u001b[0mnewBT\u001b[0m\u001b[0;34m.\u001b[0m\u001b[0mLevelOrder\u001b[0m\u001b[0;34m(\u001b[0m\u001b[0;36m1\u001b[0m\u001b[0;34m)\u001b[0m\u001b[0;34m\u001b[0m\u001b[0;34m\u001b[0m\u001b[0m\n\u001b[1;32m     86\u001b[0m \u001b[0;34m\u001b[0m\u001b[0m\n\u001b[0;32m---> 87\u001b[0;31m \u001b[0mprint\u001b[0m\u001b[0;34m(\u001b[0m\u001b[0mnewBT\u001b[0m\u001b[0;34m.\u001b[0m\u001b[0mDeleteNode\u001b[0m\u001b[0;34m(\u001b[0m\u001b[0;34m\"Tea\"\u001b[0m\u001b[0;34m)\u001b[0m\u001b[0;34m)\u001b[0m\u001b[0;34m\u001b[0m\u001b[0;34m\u001b[0m\u001b[0m\n\u001b[0m",
            "\u001b[0;32m<ipython-input-11-e5d85dcacb33>\u001b[0m in \u001b[0;36mDeleteNode\u001b[0;34m(self, value)\u001b[0m\n\u001b[1;32m     61\u001b[0m       \u001b[0;32mif\u001b[0m \u001b[0mself\u001b[0m\u001b[0;34m.\u001b[0m\u001b[0mcustomList\u001b[0m\u001b[0;34m[\u001b[0m\u001b[0mi\u001b[0m\u001b[0;34m]\u001b[0m \u001b[0;34m==\u001b[0m \u001b[0mvalue\u001b[0m\u001b[0;34m:\u001b[0m\u001b[0;34m\u001b[0m\u001b[0;34m\u001b[0m\u001b[0m\n\u001b[1;32m     62\u001b[0m         \u001b[0mself\u001b[0m\u001b[0;34m.\u001b[0m\u001b[0mcustomList\u001b[0m \u001b[0;34m=\u001b[0m \u001b[0mself\u001b[0m\u001b[0;34m.\u001b[0m\u001b[0mcustomList\u001b[0m\u001b[0;34m[\u001b[0m\u001b[0mself\u001b[0m\u001b[0;34m.\u001b[0m\u001b[0mlastUsedIndex\u001b[0m\u001b[0;34m]\u001b[0m\u001b[0;34m\u001b[0m\u001b[0;34m\u001b[0m\u001b[0m\n\u001b[0;32m---> 63\u001b[0;31m         \u001b[0mself\u001b[0m\u001b[0;34m.\u001b[0m\u001b[0mcustomList\u001b[0m\u001b[0;34m[\u001b[0m\u001b[0mself\u001b[0m\u001b[0;34m.\u001b[0m\u001b[0mlastUsedIndex\u001b[0m\u001b[0;34m]\u001b[0m \u001b[0;34m=\u001b[0m \u001b[0;32mNone\u001b[0m\u001b[0;34m\u001b[0m\u001b[0;34m\u001b[0m\u001b[0m\n\u001b[0m\u001b[1;32m     64\u001b[0m         \u001b[0mself\u001b[0m\u001b[0;34m.\u001b[0m\u001b[0mlastUsedIndex\u001b[0m \u001b[0;34m-=\u001b[0m \u001b[0;36m1\u001b[0m\u001b[0;34m\u001b[0m\u001b[0;34m\u001b[0m\u001b[0m\n\u001b[1;32m     65\u001b[0m         \u001b[0;32mreturn\u001b[0m \u001b[0;34m\"The node is deleted\"\u001b[0m\u001b[0;34m\u001b[0m\u001b[0;34m\u001b[0m\u001b[0m\n",
            "\u001b[0;31mTypeError\u001b[0m: 'str' object does not support item assignment"
          ]
        }
      ]
    },
    {
      "cell_type": "code",
      "metadata": {
        "id": "Bh4R90Ylj9iG"
      },
      "source": [
        ""
      ],
      "execution_count": null,
      "outputs": []
    }
  ]
}