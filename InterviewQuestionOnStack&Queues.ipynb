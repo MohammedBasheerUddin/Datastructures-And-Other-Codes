{
  "nbformat": 4,
  "nbformat_minor": 0,
  "metadata": {
    "colab": {
      "name": "InterviewQuestionOnStack&Queues.ipynb",
      "provenance": [],
      "collapsed_sections": [],
      "authorship_tag": "ABX9TyO/XI87DYluQqEuHqehVytQ",
      "include_colab_link": true
    },
    "kernelspec": {
      "name": "python3",
      "display_name": "Python 3"
    },
    "language_info": {
      "name": "python"
    }
  },
  "cells": [
    {
      "cell_type": "markdown",
      "metadata": {
        "id": "view-in-github",
        "colab_type": "text"
      },
      "source": [
        "<a href=\"https://colab.research.google.com/github/MohammedBasheerUddin/Datastructures-And-Other-Codes/blob/main/InterviewQuestionOnStack%26Queues.ipynb\" target=\"_parent\"><img src=\"https://colab.research.google.com/assets/colab-badge.svg\" alt=\"Open In Colab\"/></a>"
      ]
    },
    {
      "cell_type": "markdown",
      "metadata": {
        "id": "yVXiLwKPXRWJ"
      },
      "source": [
        "**Three In One**\n",
        "\n",
        "> Describe how you could use a single python list to implement three stacks\n",
        "\n",
        "\n"
      ]
    },
    {
      "cell_type": "code",
      "metadata": {
        "id": "SLlhBb50XIcQ",
        "colab": {
          "base_uri": "https://localhost:8080/"
        },
        "outputId": "d5ecc6b3-9df0-4d3a-b985-99c31a64e220"
      },
      "source": [
        "class Multi:\n",
        "  def __init__(self, stacksize):                            # initializing and defining the basic structure\n",
        "    self.numberstacks = 3                                   # the array will be divided into three stacks 0,1,2\n",
        "    self.custList = [0] * (stacksize * self.numberstacks)   # the custList is used for stack partitions if stacksize = 6 then [0]*(6*3 = 18) so every index initialized with default value 0\n",
        "    self.sizes = [0] * self.numberstacks                    # sizes = [0] * 3 why? \n",
        "    self.stacksize = stacksize                              # assign stacksize to itself \n",
        "  \n",
        "  def isFull(self, stacknumber):                            # method to check if stack is full which will be used in several places after this\n",
        "    if self.sizes[stacknumber] == self.stacksize:           # if stack is full returns true \n",
        "      return True\n",
        "    else:\n",
        "      return False\n",
        "  \n",
        "  def isEmpty(self, stacknumber):                           # same again ?\n",
        "    if self.sizes[stacknumber] == 0:\n",
        "      return True\n",
        "    else:\n",
        "      return False\n",
        "  \n",
        "  def indexOfTop(self, stacknumber):                        # offsett = stacknumber * 6 \n",
        "    offset = stacknumber * self.stacksize                   # return \n",
        "    return offset + self.sizes[stacknumber] -1\n",
        "    \n",
        "  def push(self, item, stacknumber):\n",
        "    if self.isFull(stacknumber):\n",
        "      return \"FULL\"\n",
        "    else:\n",
        "      self.sizes[stacknumber] += 1\n",
        "      self.custList[self.indexOfTop(stacknumber)] = item \n",
        "    \n",
        "  def pop(self, stacknumber):\n",
        "    if self.isEmpty(stacknumber):\n",
        "      return \"EMPTY\"\n",
        "    else:\n",
        "      value = self.custList[self.indexOfTop(stacknumber)]\n",
        "      self.custLIst[self.indexOfTop(stacknumber)] = 0\n",
        "      self.sizes[stacknumber] -= 1\n",
        "      return value\n",
        "  \n",
        "  def peek(self, stacknumber):\n",
        "    if self.isEmpty(stacknumber):\n",
        "      return \"EMPTY\"\n",
        "    else:\n",
        "      value = self.custList[self.indexOfTop(stacknumber)]\n",
        "      return value\n",
        "\n",
        "ss = Multi(6)\n",
        "print(ss.isFull(0))\n",
        "print(ss.isEmpty(1))\n",
        "ss.push(1, 0)\n",
        "ss.push(2, 0)\n",
        "ss.push(3, 2)\n",
        "print(ss.peek(1))\n",
        "print(len(ss.custList))\n"
      ],
      "execution_count": null,
      "outputs": [
        {
          "output_type": "stream",
          "text": [
            "False\n",
            "True\n",
            "EMPTY\n",
            "18\n"
          ],
          "name": "stdout"
        }
      ]
    },
    {
      "cell_type": "markdown",
      "metadata": {
        "id": "kkbr8TpPPZ9K"
      },
      "source": [
        "Stack Minimum\n",
        "\n",
        "\n",
        "> How would you design a stack which in addition to push and pop has a function min which returns minimum element ? push,pop and min should all operate at O(1)."
      ]
    },
    {
      "cell_type": "code",
      "metadata": {
        "colab": {
          "base_uri": "https://localhost:8080/"
        },
        "id": "XofywzA1Qc7Q",
        "outputId": "38c6ba88-5ccc-4f3f-fd70-2fbc2168edb6"
      },
      "source": [
        "#implemented using linkedlist\n",
        "class Node():\n",
        "  def __init__(self, value = None, next = None):\n",
        "    self.value = value\n",
        "    self.next = next\n",
        "  \n",
        "  def __str__(self):\n",
        "    sr = str(self.value)\n",
        "    if self.next:\n",
        "      sr += ',' + str(self.next)\n",
        "    return sr\n",
        "\n",
        "\n",
        "class MinimumStack():\n",
        "  def __init__(self):\n",
        "    self.top = None\n",
        "    self.minNode = None\n",
        "  \n",
        "  def min(self):\n",
        "    if not self.minNode:\n",
        "      return None\n",
        "    return self.minNode\n",
        "  \n",
        "  def push(self, item):\n",
        "    if self.minNode and (self.minNode.value < item):\n",
        "      self.minNode = Node(value = self.minNode.value, next = self.minNode)\n",
        "    else:\n",
        "      self.minNode = Node(value = item , next = self.minNode)\n",
        "    self.top = Node(value = item , next =self.top)\n",
        "  \n",
        "  def pop(self):\n",
        "    if not self.top:\n",
        "      return None\n",
        "    self.minNode = self.minNode.next\n",
        "    item = self.top.value\n",
        "    self.top = self.top.next\n",
        "    return item\n",
        "\n",
        "ss = MinimumStack()\n",
        "\n",
        "ss.push(5)\n",
        "print(ss.min())\n",
        "\n",
        "ss.push(6)\n",
        "print(ss.min())\n",
        "\n",
        "ss.push(3)\n",
        "print(ss.min())\n",
        "\n",
        "ss.pop()\n",
        "print(ss.min())\n",
        "\n",
        "\n",
        "\n",
        "\n",
        "\n",
        "\n",
        "\n",
        "\n",
        "\n",
        "\n",
        "\n",
        "\n",
        "\n",
        "\n",
        "\n",
        "\n",
        "\n",
        "\n",
        "\n",
        "\n",
        "\n"
      ],
      "execution_count": null,
      "outputs": [
        {
          "output_type": "stream",
          "text": [
            "5\n",
            "5,5\n",
            "3,5,5\n",
            "5,5\n"
          ],
          "name": "stdout"
        }
      ]
    },
    {
      "cell_type": "code",
      "metadata": {
        "id": "wZkGgrMxSYK1"
      },
      "source": [
        ""
      ],
      "execution_count": null,
      "outputs": []
    }
  ]
}